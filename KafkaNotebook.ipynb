{
 "cells": [
  {
   "cell_type": "markdown",
   "metadata": {},
   "source": [
    "# Altering a Kafka stream with geolocation info\n",
    "This program takes packets from a kafka stream in json format and updates them with geolocation information using the maxmind databases."
   ]
  },
  {
   "cell_type": "markdown",
   "metadata": {},
   "source": [
    "## All the imports\n",
    "For imports, pykafka was used to interface with kafka through python."
   ]
  },
  {
   "cell_type": "code",
   "execution_count": null,
   "metadata": {},
   "outputs": [],
   "source": [
    "from pykafka import KafkaClient\n",
    "from pykafka.common import OffsetType\n",
    "from pykafka.exceptions import NoBrokersAvailableError, UnknownTopicOrPartition\n",
    "import json\n",
    "import threading\n",
    "import logging\n",
    "import time\n",
    "import sys\n",
    "import GeoIP\n",
    "PYHTONHASHSEED = 0"
   ]
  },
  {
   "cell_type": "markdown",
   "metadata": {},
   "source": [
    "## Basic user assistance"
   ]
  },
  {
   "cell_type": "code",
   "execution_count": null,
   "metadata": {},
   "outputs": [],
   "source": [
    "if sys.argv[1] is \"h\":\n",
    "    print \"arg1=kafka client\\narg2=topic to consume from\\narg3=topic to produce to\"\n",
    "    raise SystemExit"
   ]
  },
  {
   "cell_type": "markdown",
   "metadata": {},
   "source": [
    "## Setup Kafka\n",
    "This setsup everything the program needs to connect to the desired kafka broker and to latch onto the desired topic to consume from, as well as add the topic to produce to. It does this through the user inputing the information as arguments when the program is ran. This also includes error handling for if the user inputs an incorrect or otherwise non existent topic or broker."
   ]
  },
  {
   "cell_type": "code",
   "execution_count": null,
   "metadata": {},
   "outputs": [],
   "source": [
    "try:\n",
    "    geo = GeoIP.open(\"GeoLiteCity.dat\", GeoIP.GEOIP_STANDARD)\n",
    "    client = KafkaClient(hosts= sys.argv[1])\n",
    "    topic = client.topics[sys.argv[2]] #Topic to consume from\n",
    "    nTopic = client.topics[sys.argv[3]] #Topic to produce to\n",
    "    consumer = topic.get_simple_consumer(\n",
    "        consumer_group = sys.argv[2],\n",
    "        auto_offset_reset = OffsetType.LATEST,\n",
    "        reset_offset_on_start = True)\n",
    "    producer = nTopic.get_sync_producer()\n",
    "except NoBrokersAvailableError:\n",
    "    print \"Please enter a valid Kafka Broker\"\n",
    "    raise SystemExit\n",
    "except UnknownTopicOrPartition:\n",
    "    print \"Please enter a valid topic\"\n",
    "    raise SystemExit"
   ]
  },
  {
   "cell_type": "markdown",
   "metadata": {},
   "source": [
    "## Load JSON\n",
    "This takes the JSONs that are being fed in by the kafka broker loads them into a dictionary (nDict). This dictionary is then further stripped down to just the ipv4, where then the source address and destination address are parsed out and used by the maxmind geolocating database. This data is then stored in another dictionary, one for source address and one for destination address, which are then added to the original dictionary and sent to be produced."
   ]
  },
  {
   "cell_type": "code",
   "execution_count": null,
   "metadata": {},
   "outputs": [],
   "source": [
    "try:\n",
    "    for message in consumer:\n",
    "        try:\n",
    "            nDict = json.loads(message.value) #loads current json to dict\n",
    "            ipDict = nDict[\"ipv4\"] #Loads the keys inside ipv4 into a new dict\n",
    "            geoL = geo.record_by_addr(ipDict[\"srcAddr\"]) #Get Lat/Long from ip\n",
    "            geoLd = geo.record_by_addr(ipDict[\"dstAddr\"])\n",
    "            sDict = {}\n",
    "            dDict = {}\n",
    "            if geoL is not None:\n",
    "                sDict['Latitude'] = geoL['latitude']\n",
    "                sDict['Longitude'] = geoL['longitude']\n",
    "                sDict['City'] = geoL['city']\n",
    "                sDict['RegionName'] = geoL['region_name']\n",
    "                sDict['Region'] = geoL['region']\n",
    "                sDict['areaCode'] = geoL['area_code']\n",
    "                sDict['TimeZone'] = geoL['time_zone']\n",
    "                sDict['MetroCode'] = geoL['metro_code']\n",
    "                sDict['CountryCode3'] = geoL['country_code3']\n",
    "                sDict['PostalCode'] = geoL['postal_code']\n",
    "                sDict['dmaCode'] = geoL['dma_code']\n",
    "                sDict['CountryCode'] = geoL['country_code']\n",
    "                sDict['CountryName'] = geoL['country_name']\n",
    "                nDict['src'] = sDict\n",
    "            if geoLd is not None:\n",
    "                dDict['Latitude'] = geoLd['latitude']\n",
    "                dDict['Longitude'] = geoLd['longitude']\n",
    "                dDict['City'] = geoLd['city']\n",
    "                dDict['RegionName'] = geoLd['region_name']\n",
    "                dDict['Region'] = geoLd['region']\n",
    "                dDict['areaCode'] = geoLd['area_code']\n",
    "                dDict['TimeZone'] = geoLd['time_zone']\n",
    "                dDict['MetroCode'] = geoLd['metro_code']\n",
    "                dDict['CountryCode3'] = geoLd['country_code3']\n",
    "                dDict['PostalCode'] = geoLd['postal_code']\n",
    "                dDict['dmaCode'] = geoLd['dma_code']\n",
    "                dDict['CountryCode'] = geoLd['country_code']\n",
    "                dDict['CountryName'] = geoLd['country_name']\n",
    "                nDict['dst'] = dDict\n",
    "            produceJSON(nDict)\n",
    "        except ValueError:\n",
    "            pass"
   ]
  },
  {
   "cell_type": "markdown",
   "metadata": {},
   "source": [
    "## Produce to Topic\n",
    "This function will take whatever dictionary it is given and produce it to the designated topic"
   ]
  },
  {
   "cell_type": "code",
   "execution_count": null,
   "metadata": {},
   "outputs": [],
   "source": [
    "def produceJSON(Dict):\n",
    "    js = json.dumps(Dict)\n",
    "    producer.produce(js)"
   ]
  },
  {
   "cell_type": "markdown",
   "metadata": {},
   "source": [
    "## Exit\n",
    "Since this is a command line program that can be run without ever stopping, the only way it will exit besides a crash of some sort is through ctrl + c."
   ]
  },
  {
   "cell_type": "code",
   "execution_count": null,
   "metadata": {},
   "outputs": [],
   "source": [
    "except KeyboardInterrupt:\n",
    "    print \"\\nQuitting...\"\n",
    "    raise SystemExit"
   ]
  }
 ],
 "metadata": {
  "kernelspec": {
   "display_name": "Python 3",
   "language": "python",
   "name": "python3"
  },
  "language_info": {
   "codemirror_mode": {
    "name": "ipython",
    "version": 3
   },
   "file_extension": ".py",
   "mimetype": "text/x-python",
   "name": "python",
   "nbconvert_exporter": "python",
   "pygments_lexer": "ipython3",
   "version": "3.4.3"
  }
 },
 "nbformat": 4,
 "nbformat_minor": 2
}
